{
  "nbformat": 4,
  "nbformat_minor": 0,
  "metadata": {
    "colab": {
      "name": "NLTK - Introduction to NLP.ipynb",
      "provenance": []
    },
    "kernelspec": {
      "name": "python3",
      "display_name": "Python 3"
    }
  },
  "cells": [
    {
      "cell_type": "markdown",
      "metadata": {
        "id": "sjCWTWA6CT24"
      },
      "source": [
        "# **Introduction to Natural Language Processing**"
      ]
    },
    {
      "cell_type": "code",
      "metadata": {
        "id": "Wkf5vWJ-CRex"
      },
      "source": [
        "import nltk"
      ],
      "execution_count": 1,
      "outputs": []
    },
    {
      "cell_type": "markdown",
      "metadata": {
        "id": "o9T0hqBFCFXM"
      },
      "source": [
        "# 1. Get the Data\r\n",
        "* Get the Data from NLTK Corpora\r\n",
        "* or Scrape the Data/ Use API"
      ]
    },
    {
      "cell_type": "code",
      "metadata": {
        "colab": {
          "base_uri": "https://localhost:8080/"
        },
        "id": "KEwLfkbWCisR",
        "outputId": "3d5c75e3-c1a6-47d8-8a93-5b2b971edf7b"
      },
      "source": [
        "nltk.download('brown')"
      ],
      "execution_count": 5,
      "outputs": [
        {
          "output_type": "stream",
          "text": [
            "[nltk_data] Downloading package brown to /root/nltk_data...\n",
            "[nltk_data]   Unzipping corpora/brown.zip.\n"
          ],
          "name": "stdout"
        },
        {
          "output_type": "execute_result",
          "data": {
            "text/plain": [
              "True"
            ]
          },
          "metadata": {
            "tags": []
          },
          "execution_count": 5
        }
      ]
    },
    {
      "cell_type": "code",
      "metadata": {
        "id": "gXgCcvoICNSi"
      },
      "source": [
        "# Corpus - A large collection of text\r\n",
        "\r\n",
        "from nltk.corpus import brown"
      ],
      "execution_count": 6,
      "outputs": []
    },
    {
      "cell_type": "code",
      "metadata": {
        "colab": {
          "base_uri": "https://localhost:8080/"
        },
        "id": "65yAEvcGCbrJ",
        "outputId": "82c517a3-224b-4412-8c90-2ed9bea1b28f"
      },
      "source": [
        "print(brown.categories())\r\n",
        "print(len(brown.categories()))"
      ],
      "execution_count": 7,
      "outputs": [
        {
          "output_type": "stream",
          "text": [
            "['adventure', 'belles_lettres', 'editorial', 'fiction', 'government', 'hobbies', 'humor', 'learned', 'lore', 'mystery', 'news', 'religion', 'reviews', 'romance', 'science_fiction']\n",
            "15\n"
          ],
          "name": "stdout"
        }
      ]
    },
    {
      "cell_type": "code",
      "metadata": {
        "id": "VixSmnToCeaq"
      },
      "source": [
        "data = brown.sents(categories='fiction')"
      ],
      "execution_count": 8,
      "outputs": []
    },
    {
      "cell_type": "code",
      "metadata": {
        "colab": {
          "base_uri": "https://localhost:8080/",
          "height": 35
        },
        "id": "lGSVN6bUCugW",
        "outputId": "688e5243-63ec-45c2-f2ab-bb72ffa26d51"
      },
      "source": [
        "#1 sentence in fiction category\r\n",
        "' '.join(data[1])"
      ],
      "execution_count": 9,
      "outputs": [
        {
          "output_type": "execute_result",
          "data": {
            "application/vnd.google.colaboratory.intrinsic+json": {
              "type": "string"
            },
            "text/plain": [
              "'Scotty did not go back to school .'"
            ]
          },
          "metadata": {
            "tags": []
          },
          "execution_count": 9
        }
      ]
    },
    {
      "cell_type": "markdown",
      "metadata": {
        "id": "nQpicKWDC48l"
      },
      "source": [
        "# **Bag of Words Pipeline**\r\n",
        "* Get the Data/Corpus\r\n",
        "* Tokenisation, Stopward Removal\r\n",
        "* Stemming\r\n",
        "* Building a Vocab\r\n",
        "* Vectorization\r\n",
        "* Classification"
      ]
    },
    {
      "cell_type": "markdown",
      "metadata": {
        "id": "9POtiZchDIY9"
      },
      "source": [
        "# Tokenisation & Stopword Removal"
      ]
    },
    {
      "cell_type": "code",
      "metadata": {
        "id": "0SPZRAD_CxTd"
      },
      "source": [
        "document = \"\"\"It was a very pleasant day. The weather was cool and there were light showers. \r\n",
        "I went to the market to buy some fruits.\"\"\"\r\n",
        "\r\n",
        "sentence = \"Send all the 50 documents related to chapters 1,2,3 at prateek@cb.com\""
      ],
      "execution_count": 10,
      "outputs": []
    },
    {
      "cell_type": "code",
      "metadata": {
        "id": "cLuWFiuJDRkz"
      },
      "source": [
        "from nltk.tokenize import sent_tokenize,word_tokenize"
      ],
      "execution_count": 11,
      "outputs": []
    },
    {
      "cell_type": "code",
      "metadata": {
        "colab": {
          "base_uri": "https://localhost:8080/"
        },
        "id": "4ABPXQfQDeHt",
        "outputId": "4f0796eb-62cf-4afb-a24b-7e30aa599180"
      },
      "source": [
        "nltk.download('punkt')"
      ],
      "execution_count": 14,
      "outputs": [
        {
          "output_type": "stream",
          "text": [
            "[nltk_data] Downloading package punkt to /root/nltk_data...\n",
            "[nltk_data]   Unzipping tokenizers/punkt.zip.\n"
          ],
          "name": "stdout"
        },
        {
          "output_type": "execute_result",
          "data": {
            "text/plain": [
              "True"
            ]
          },
          "metadata": {
            "tags": []
          },
          "execution_count": 14
        }
      ]
    },
    {
      "cell_type": "code",
      "metadata": {
        "colab": {
          "base_uri": "https://localhost:8080/"
        },
        "id": "oz2ZhI7xDUSQ",
        "outputId": "79b851c6-c16c-4113-f2a2-a48e76875ebe"
      },
      "source": [
        "sents = sent_tokenize(document)\r\n",
        "print(sents)\r\n",
        "print(len(sents))"
      ],
      "execution_count": 15,
      "outputs": [
        {
          "output_type": "stream",
          "text": [
            "['It was a very pleasant day.', 'The weather was cool and there were light showers.', 'I went to the market to buy some fruits.']\n",
            "3\n"
          ],
          "name": "stdout"
        }
      ]
    },
    {
      "cell_type": "code",
      "metadata": {
        "colab": {
          "base_uri": "https://localhost:8080/",
          "height": 35
        },
        "id": "C_gkDq5xDYWj",
        "outputId": "51829bea-1e56-4f8a-f357-00e2bcff3f6f"
      },
      "source": [
        "sents[0]"
      ],
      "execution_count": 16,
      "outputs": [
        {
          "output_type": "execute_result",
          "data": {
            "application/vnd.google.colaboratory.intrinsic+json": {
              "type": "string"
            },
            "text/plain": [
              "'It was a very pleasant day.'"
            ]
          },
          "metadata": {
            "tags": []
          },
          "execution_count": 16
        }
      ]
    },
    {
      "cell_type": "code",
      "metadata": {
        "colab": {
          "base_uri": "https://localhost:8080/"
        },
        "id": "z1tBngPfDqj5",
        "outputId": "eabb460d-d558-4675-efee-2a474eeca662"
      },
      "source": [
        "sentence.split()"
      ],
      "execution_count": 17,
      "outputs": [
        {
          "output_type": "execute_result",
          "data": {
            "text/plain": [
              "['Send',\n",
              " 'all',\n",
              " 'the',\n",
              " '50',\n",
              " 'documents',\n",
              " 'related',\n",
              " 'to',\n",
              " 'chapters',\n",
              " '1,2,3',\n",
              " 'at',\n",
              " 'prateek@cb.com']"
            ]
          },
          "metadata": {
            "tags": []
          },
          "execution_count": 17
        }
      ]
    },
    {
      "cell_type": "code",
      "metadata": {
        "id": "4VCAoJNJDssE"
      },
      "source": [
        "words = word_tokenize(sentence)"
      ],
      "execution_count": 18,
      "outputs": []
    },
    {
      "cell_type": "code",
      "metadata": {
        "colab": {
          "base_uri": "https://localhost:8080/"
        },
        "id": "KPuwHU5zDvnO",
        "outputId": "2b94ff4f-1146-4ec5-ca6c-9b2c60e50275"
      },
      "source": [
        "words"
      ],
      "execution_count": 19,
      "outputs": [
        {
          "output_type": "execute_result",
          "data": {
            "text/plain": [
              "['Send',\n",
              " 'all',\n",
              " 'the',\n",
              " '50',\n",
              " 'documents',\n",
              " 'related',\n",
              " 'to',\n",
              " 'chapters',\n",
              " '1,2,3',\n",
              " 'at',\n",
              " 'prateek',\n",
              " '@',\n",
              " 'cb.com']"
            ]
          },
          "metadata": {
            "tags": []
          },
          "execution_count": 19
        }
      ]
    },
    {
      "cell_type": "markdown",
      "metadata": {
        "id": "IAKWTnJgD1pn"
      },
      "source": [
        "# Stopwords"
      ]
    },
    {
      "cell_type": "code",
      "metadata": {
        "colab": {
          "base_uri": "https://localhost:8080/"
        },
        "id": "xpfJ41sGD8SA",
        "outputId": "63f1ba5b-f440-4e2a-aa1b-7c569d2dfe5e"
      },
      "source": [
        "nltk.download('stopwords')"
      ],
      "execution_count": 21,
      "outputs": [
        {
          "output_type": "stream",
          "text": [
            "[nltk_data] Downloading package stopwords to /root/nltk_data...\n",
            "[nltk_data]   Unzipping corpora/stopwords.zip.\n"
          ],
          "name": "stdout"
        },
        {
          "output_type": "execute_result",
          "data": {
            "text/plain": [
              "True"
            ]
          },
          "metadata": {
            "tags": []
          },
          "execution_count": 21
        }
      ]
    },
    {
      "cell_type": "code",
      "metadata": {
        "id": "_3Z3WvZKDw-2"
      },
      "source": [
        "from nltk.corpus import stopwords\r\n",
        "\r\n",
        "sw = set(stopwords.words('english'))"
      ],
      "execution_count": 22,
      "outputs": []
    },
    {
      "cell_type": "code",
      "metadata": {
        "colab": {
          "base_uri": "https://localhost:8080/"
        },
        "id": "jK51l54FD4lq",
        "outputId": "9634a65c-dcac-41c1-f62d-684c9cade47b"
      },
      "source": [
        "print(sw)"
      ],
      "execution_count": 23,
      "outputs": [
        {
          "output_type": "stream",
          "text": [
            "{'me', 's', 'so', 'them', 'yourself', 'it', 'couldn', 'his', 'how', 'then', 'has', 'again', 'a', \"shan't\", 'into', 'will', 'most', \"weren't\", 'those', 'ours', \"won't\", 'from', 'isn', 'these', 'hers', \"wouldn't\", 'mightn', 'her', 'hasn', \"hasn't\", 'own', 'being', 'before', 'that', 'shan', 'some', 'don', 'few', 'just', \"it's\", \"you're\", 'below', 'than', \"you'll\", 'himself', 'herself', 'for', 'shouldn', 'between', 'themselves', 'y', \"that'll\", \"you'd\", 'too', 'after', 'we', 'doesn', 'with', 'yourselves', 'to', \"mustn't\", 'through', 'was', \"she's\", 'myself', 'which', 'your', 'yours', 'there', \"don't\", 'because', 'him', 'itself', 'more', 'mustn', 'having', 'as', 'have', 'down', \"wasn't\", 'both', \"you've\", 'who', 'hadn', \"shouldn't\", 'won', 'same', 'its', 'once', 'ourselves', 'by', 've', 'ma', 'until', 'over', 'whom', 'this', \"aren't\", 'at', 'any', 'other', 'while', 'what', 'been', 'above', 'in', 'is', 'll', 'but', 'weren', 'are', 'does', 'ain', 'she', 'an', 'the', 'against', 'do', 'our', 'when', 'should', \"isn't\", 'not', 'no', 'did', 'or', 'very', \"needn't\", 'wouldn', 'wasn', \"mightn't\", 'out', 'm', 'you', 'needn', 'and', 'be', 'aren', 'd', 'i', 'all', 'further', 'nor', 'under', 'didn', \"haven't\", 'here', 'of', 'where', 'am', 't', 'now', 'he', 'about', 'why', 'theirs', 'were', 'o', 'haven', 'up', 'during', \"should've\", 're', \"couldn't\", 'such', 'their', \"doesn't\", 'can', 'on', 'they', 'only', 'my', \"didn't\", 'off', 'if', \"hadn't\", 'had', 'each', 'doing'}\n"
          ],
          "name": "stdout"
        }
      ]
    },
    {
      "cell_type": "code",
      "metadata": {
        "id": "VR-O_Ng9EA15"
      },
      "source": [
        "def remove_stopwords(text,stopwords):\r\n",
        "    useful_words = [w for w in text if w not in stopwords]\r\n",
        "    return useful_words"
      ],
      "execution_count": 24,
      "outputs": []
    },
    {
      "cell_type": "code",
      "metadata": {
        "colab": {
          "base_uri": "https://localhost:8080/"
        },
        "id": "Ca6dFGPJEDRR",
        "outputId": "78955665-92d0-4db1-c1e1-98a1a51b9505"
      },
      "source": [
        "text = \"i am not bothered about her very much\".split()\r\n",
        "useful_text = remove_stopwords(text,sw)\r\n",
        "print(useful_text)"
      ],
      "execution_count": 25,
      "outputs": [
        {
          "output_type": "stream",
          "text": [
            "['bothered', 'much']\n"
          ],
          "name": "stdout"
        }
      ]
    },
    {
      "cell_type": "markdown",
      "metadata": {
        "id": "WkFAcbXGEIRU"
      },
      "source": [
        "# Tokenization using Regular Expression"
      ]
    },
    {
      "cell_type": "code",
      "metadata": {
        "id": "SmIFbcWQEFXb"
      },
      "source": [
        "sentence = \"Send all the 50 documents related to chapters 1,2,3 at prateek@cb.com\""
      ],
      "execution_count": 26,
      "outputs": []
    },
    {
      "cell_type": "code",
      "metadata": {
        "id": "534wXSRNEL_x"
      },
      "source": [
        "from nltk.tokenize import RegexpTokenizer"
      ],
      "execution_count": 27,
      "outputs": []
    },
    {
      "cell_type": "code",
      "metadata": {
        "id": "DfovmIbcEODm"
      },
      "source": [
        "tokenizer = RegexpTokenizer('[a-zA-Z@.]+') # Write expression here.\r\n",
        "useful_text = tokenizer.tokenize(sentence)"
      ],
      "execution_count": 28,
      "outputs": []
    },
    {
      "cell_type": "code",
      "metadata": {
        "colab": {
          "base_uri": "https://localhost:8080/"
        },
        "id": "FuHOu04-ES5w",
        "outputId": "2862d32f-6b68-4b59-8f0a-82fad40ac984"
      },
      "source": [
        "useful_text"
      ],
      "execution_count": 29,
      "outputs": [
        {
          "output_type": "execute_result",
          "data": {
            "text/plain": [
              "['Send',\n",
              " 'all',\n",
              " 'the',\n",
              " 'documents',\n",
              " 'related',\n",
              " 'to',\n",
              " 'chapters',\n",
              " 'at',\n",
              " 'prateek@cb.com']"
            ]
          },
          "metadata": {
            "tags": []
          },
          "execution_count": 29
        }
      ]
    },
    {
      "cell_type": "markdown",
      "metadata": {
        "id": "OleTLtF2Ebn0"
      },
      "source": [
        "# Stemming\r\n",
        "* Process that transforms particular words(verbs,plurals)into their radical form\r\n",
        "* Preserve the semantics of the sentence without increasing the number of unique tokens\r\n",
        "* Example - jumps, jumping, jumped, jump ==> jump"
      ]
    },
    {
      "cell_type": "code",
      "metadata": {
        "id": "Txg_VmH6EZFS"
      },
      "source": [
        "text= \"\"\"Foxes love to make jumps.The quick brown fox was seen jumping over the \r\n",
        "        lovely dog from a 6ft feet high wall\"\"\""
      ],
      "execution_count": 30,
      "outputs": []
    },
    {
      "cell_type": "code",
      "metadata": {
        "id": "YJKpKecdEmDi"
      },
      "source": [
        "from nltk.stem.snowball import SnowballStemmer, PorterStemmer\r\n",
        "from nltk.stem.lancaster import LancasterStemmer\r\n",
        "#Snowball Stemmer, Porter, Lancaster Stemmer"
      ],
      "execution_count": 31,
      "outputs": []
    },
    {
      "cell_type": "code",
      "metadata": {
        "id": "wAEgALZ5EpXc"
      },
      "source": [
        "ps = PorterStemmer()"
      ],
      "execution_count": 32,
      "outputs": []
    },
    {
      "cell_type": "code",
      "metadata": {
        "colab": {
          "base_uri": "https://localhost:8080/",
          "height": 35
        },
        "id": "RlyGZzp_ErL8",
        "outputId": "727aa9ce-1c8b-430a-da62-ebf94015caf1"
      },
      "source": [
        "ps.stem('jumping')"
      ],
      "execution_count": 33,
      "outputs": [
        {
          "output_type": "execute_result",
          "data": {
            "application/vnd.google.colaboratory.intrinsic+json": {
              "type": "string"
            },
            "text/plain": [
              "'jump'"
            ]
          },
          "metadata": {
            "tags": []
          },
          "execution_count": 33
        }
      ]
    },
    {
      "cell_type": "code",
      "metadata": {
        "colab": {
          "base_uri": "https://localhost:8080/",
          "height": 35
        },
        "id": "x7XbICiSEtWL",
        "outputId": "7532725b-6716-4099-e806-3fd1cbb4f9de"
      },
      "source": [
        "ps.stem('lovely')"
      ],
      "execution_count": 34,
      "outputs": [
        {
          "output_type": "execute_result",
          "data": {
            "application/vnd.google.colaboratory.intrinsic+json": {
              "type": "string"
            },
            "text/plain": [
              "'love'"
            ]
          },
          "metadata": {
            "tags": []
          },
          "execution_count": 34
        }
      ]
    },
    {
      "cell_type": "code",
      "metadata": {
        "id": "Zxa8pTAEEviG"
      },
      "source": [
        "# Snowball Stemmer\r\n",
        "ss = SnowballStemmer('english') # it is available for various languages"
      ],
      "execution_count": 35,
      "outputs": []
    },
    {
      "cell_type": "code",
      "metadata": {
        "colab": {
          "base_uri": "https://localhost:8080/",
          "height": 35
        },
        "id": "FZLfRm4ME2gD",
        "outputId": "0b5358bb-60e9-41ab-d7cc-0eb93ee6176a"
      },
      "source": [
        "ss.stem('lovely')"
      ],
      "execution_count": 36,
      "outputs": [
        {
          "output_type": "execute_result",
          "data": {
            "application/vnd.google.colaboratory.intrinsic+json": {
              "type": "string"
            },
            "text/plain": [
              "'love'"
            ]
          },
          "metadata": {
            "tags": []
          },
          "execution_count": 36
        }
      ]
    },
    {
      "cell_type": "code",
      "metadata": {
        "colab": {
          "base_uri": "https://localhost:8080/",
          "height": 35
        },
        "id": "AhPDbOyCE4qe",
        "outputId": "36ee264a-b579-4485-d85a-161346c0b55a"
      },
      "source": [
        "ss.stem('jumping')"
      ],
      "execution_count": 37,
      "outputs": [
        {
          "output_type": "execute_result",
          "data": {
            "application/vnd.google.colaboratory.intrinsic+json": {
              "type": "string"
            },
            "text/plain": [
              "'jump'"
            ]
          },
          "metadata": {
            "tags": []
          },
          "execution_count": 37
        }
      ]
    },
    {
      "cell_type": "code",
      "metadata": {
        "colab": {
          "base_uri": "https://localhost:8080/"
        },
        "id": "QYmeu2-8FA3i",
        "outputId": "c3a97c51-9427-484a-8a15-00b8b74f3e45"
      },
      "source": [
        "nltk.download('wordnet')"
      ],
      "execution_count": 39,
      "outputs": [
        {
          "output_type": "stream",
          "text": [
            "[nltk_data] Downloading package wordnet to /root/nltk_data...\n",
            "[nltk_data]   Unzipping corpora/wordnet.zip.\n"
          ],
          "name": "stdout"
        },
        {
          "output_type": "execute_result",
          "data": {
            "text/plain": [
              "True"
            ]
          },
          "metadata": {
            "tags": []
          },
          "execution_count": 39
        }
      ]
    },
    {
      "cell_type": "code",
      "metadata": {
        "colab": {
          "base_uri": "https://localhost:8080/",
          "height": 35
        },
        "id": "OWcGjm6EE6-i",
        "outputId": "eb8eed74-f851-4501-f22b-6e0b1658d857"
      },
      "source": [
        "## Lemmatization\r\n",
        "from nltk.stem import WordNetLemmatizer\r\n",
        "\r\n",
        "wn = WordNetLemmatizer()\r\n",
        "wn.lemmatize('jumping')"
      ],
      "execution_count": 40,
      "outputs": [
        {
          "output_type": "execute_result",
          "data": {
            "application/vnd.google.colaboratory.intrinsic+json": {
              "type": "string"
            },
            "text/plain": [
              "'jumping'"
            ]
          },
          "metadata": {
            "tags": []
          },
          "execution_count": 40
        }
      ]
    },
    {
      "cell_type": "markdown",
      "metadata": {
        "id": "vAo_PgGLFGga"
      },
      "source": [
        "# Building a Vocab & Vectorization"
      ]
    },
    {
      "cell_type": "code",
      "metadata": {
        "id": "mdUSDtutE9bj"
      },
      "source": [
        "# Sample Corpus - Contains 4 Documents, each document can have 1 or more sentences\r\n",
        "corpus = [\r\n",
        "        'Indian cricket team will wins World Cup, says Capt. Virat Kohli. World cup will be held at Sri Lanka.',\r\n",
        "        'We will win next Lok Sabha Elections, says confident Indian PM',\r\n",
        "        'The nobel laurate won the hearts of the people.',\r\n",
        "        'The movie Raazi is an exciting Indian Spy thriller based upon a real story.'\r\n",
        "]"
      ],
      "execution_count": 41,
      "outputs": []
    },
    {
      "cell_type": "code",
      "metadata": {
        "id": "YlTAfh1XFNo4"
      },
      "source": [
        "from sklearn.feature_extraction.text import CountVectorizer"
      ],
      "execution_count": 42,
      "outputs": []
    },
    {
      "cell_type": "code",
      "metadata": {
        "id": "g8bOwnw6FR1j"
      },
      "source": [
        "cv = CountVectorizer()"
      ],
      "execution_count": 43,
      "outputs": []
    },
    {
      "cell_type": "code",
      "metadata": {
        "id": "JCWhg1fiFWbY"
      },
      "source": [
        "vectorized_corpus = cv.fit_transform(corpus)"
      ],
      "execution_count": 44,
      "outputs": []
    },
    {
      "cell_type": "code",
      "metadata": {
        "id": "bTJ12MxTFZM-"
      },
      "source": [
        "vectorized_corpus = vectorized_corpus.toarray()"
      ],
      "execution_count": 45,
      "outputs": []
    },
    {
      "cell_type": "code",
      "metadata": {
        "colab": {
          "base_uri": "https://localhost:8080/"
        },
        "id": "ij_Vle88FbzX",
        "outputId": "e026b23e-6c9f-44af-82df-a997de7fec41"
      },
      "source": [
        "len(vectorized_corpus[0])\r\n",
        "print(vectorized_corpus[0])"
      ],
      "execution_count": 46,
      "outputs": [
        {
          "output_type": "stream",
          "text": [
            "[0 1 0 1 1 0 1 2 0 0 0 1 1 0 1 1 0 0 0 0 0 0 0 0 0 0 0 1 0 1 0 1 0 0 0 1 0\n",
            " 2 0 1 0 2]\n"
          ],
          "name": "stdout"
        }
      ]
    },
    {
      "cell_type": "code",
      "metadata": {
        "colab": {
          "base_uri": "https://localhost:8080/"
        },
        "id": "zqFxf-A9Fd7-",
        "outputId": "4154f9b7-d6d3-4b97-b5e4-affef01f56e2"
      },
      "source": [
        "print(cv.vocabulary_)"
      ],
      "execution_count": 47,
      "outputs": [
        {
          "output_type": "stream",
          "text": [
            "{'indian': 12, 'cricket': 6, 'team': 31, 'will': 37, 'wins': 39, 'world': 41, 'cup': 7, 'says': 27, 'capt': 4, 'virat': 35, 'kohli': 14, 'be': 3, 'held': 11, 'at': 1, 'sri': 29, 'lanka': 15, 'we': 36, 'win': 38, 'next': 19, 'lok': 17, 'sabha': 26, 'elections': 8, 'confident': 5, 'pm': 23, 'the': 32, 'nobel': 20, 'laurate': 16, 'won': 40, 'hearts': 10, 'of': 21, 'people': 22, 'movie': 18, 'raazi': 24, 'is': 13, 'an': 0, 'exciting': 9, 'spy': 28, 'thriller': 33, 'based': 2, 'upon': 34, 'real': 25, 'story': 30}\n"
          ],
          "name": "stdout"
        }
      ]
    },
    {
      "cell_type": "code",
      "metadata": {
        "colab": {
          "base_uri": "https://localhost:8080/"
        },
        "id": "xsWh9cOOFgHi",
        "outputId": "d504272f-5ea8-4df7-d257-57c9666604cb"
      },
      "source": [
        "len(cv.vocabulary_.keys())"
      ],
      "execution_count": 48,
      "outputs": [
        {
          "output_type": "execute_result",
          "data": {
            "text/plain": [
              "42"
            ]
          },
          "metadata": {
            "tags": []
          },
          "execution_count": 48
        }
      ]
    },
    {
      "cell_type": "code",
      "metadata": {
        "colab": {
          "base_uri": "https://localhost:8080/"
        },
        "id": "2S8UXJGtFiuF",
        "outputId": "4d22b677-780f-42d4-b3f4-77d46e343a12"
      },
      "source": [
        "# Reverse Mapping!\r\n",
        "numbers = vectorized_corpus[2]\r\n",
        "numbers"
      ],
      "execution_count": 49,
      "outputs": [
        {
          "output_type": "execute_result",
          "data": {
            "text/plain": [
              "array([0, 0, 0, 0, 0, 0, 0, 0, 0, 0, 1, 0, 0, 0, 0, 0, 1, 0, 0, 0, 1, 1,\n",
              "       1, 0, 0, 0, 0, 0, 0, 0, 0, 0, 3, 0, 0, 0, 0, 0, 0, 0, 1, 0])"
            ]
          },
          "metadata": {
            "tags": []
          },
          "execution_count": 49
        }
      ]
    },
    {
      "cell_type": "code",
      "metadata": {
        "colab": {
          "base_uri": "https://localhost:8080/"
        },
        "id": "Sf3XKfIkF_I0",
        "outputId": "ac70f7af-5a93-4bc2-b37f-dd3265183975"
      },
      "source": [
        "s = cv.inverse_transform(numbers)\r\n",
        "print(s)"
      ],
      "execution_count": 50,
      "outputs": [
        {
          "output_type": "stream",
          "text": [
            "[array(['hearts', 'laurate', 'nobel', 'of', 'people', 'the', 'won'],\n",
            "      dtype='<U9')]\n"
          ],
          "name": "stdout"
        }
      ]
    },
    {
      "cell_type": "markdown",
      "metadata": {
        "id": "yjH-6Sn8GN6X"
      },
      "source": [
        "**Vectorization with Stopword Removal**"
      ]
    },
    {
      "cell_type": "code",
      "metadata": {
        "id": "fIyfaeDVGCbc"
      },
      "source": [
        "def myTokenizer(document):\r\n",
        "    words = tokenizer.tokenize(document.lower())\r\n",
        "    # Remove Stopwords\r\n",
        "    words = remove_stopwords(words,sw)\r\n",
        "    return words"
      ],
      "execution_count": 51,
      "outputs": []
    },
    {
      "cell_type": "code",
      "metadata": {
        "id": "kaArRuYXGT9k"
      },
      "source": [
        "cv = CountVectorizer(tokenizer=myTokenizer) # we can pass our tokenizer also"
      ],
      "execution_count": 52,
      "outputs": []
    },
    {
      "cell_type": "code",
      "metadata": {
        "id": "otlakZCkGWQz"
      },
      "source": [
        "vectorized_corpus = cv.fit_transform(corpus).toarray()"
      ],
      "execution_count": 53,
      "outputs": []
    },
    {
      "cell_type": "code",
      "metadata": {
        "colab": {
          "base_uri": "https://localhost:8080/"
        },
        "id": "SnzAnCs0GY1a",
        "outputId": "a3deb3ab-1dc2-4ed5-9273-41791fdfc8c1"
      },
      "source": [
        "print(vectorized_corpus)"
      ],
      "execution_count": 54,
      "outputs": [
        {
          "output_type": "stream",
          "text": [
            "[[0 1 0 1 2 0 0 0 1 1 1 1 0 0 0 0 0 0 0 0 0 0 1 0 1 0 1 0 0 1 0 1 2]\n",
            " [0 0 1 0 0 1 0 0 0 1 0 0 0 1 0 1 0 0 1 0 0 1 1 0 0 0 0 0 0 0 1 0 0]\n",
            " [0 0 0 0 0 0 0 1 0 0 0 0 1 0 0 0 1 1 0 0 0 0 0 0 0 0 0 0 0 0 0 0 0]\n",
            " [1 0 0 0 0 0 1 0 0 1 0 0 0 0 1 0 0 0 0 1 1 0 0 1 0 1 0 1 1 0 0 0 0]]\n"
          ],
          "name": "stdout"
        }
      ]
    },
    {
      "cell_type": "code",
      "metadata": {
        "colab": {
          "base_uri": "https://localhost:8080/"
        },
        "id": "gHxgNonZGg_Y",
        "outputId": "5fe4c864-025f-4295-e967-d9c70d612e19"
      },
      "source": [
        "print(len(vectorized_corpus[0]))"
      ],
      "execution_count": 55,
      "outputs": [
        {
          "output_type": "stream",
          "text": [
            "33\n"
          ],
          "name": "stdout"
        }
      ]
    },
    {
      "cell_type": "code",
      "metadata": {
        "colab": {
          "base_uri": "https://localhost:8080/"
        },
        "id": "AuMURWUwGjnr",
        "outputId": "4331e631-cca6-41e8-e70b-a059a305a29b"
      },
      "source": [
        "cv.inverse_transform(vectorized_corpus)"
      ],
      "execution_count": 56,
      "outputs": [
        {
          "output_type": "execute_result",
          "data": {
            "text/plain": [
              "[array(['capt.', 'cricket', 'cup', 'held', 'indian', 'kohli.', 'lanka.',\n",
              "        'says', 'sri', 'team', 'virat', 'wins', 'world'], dtype='<U9'),\n",
              " array(['confident', 'elections', 'indian', 'lok', 'next', 'pm', 'sabha',\n",
              "        'says', 'win'], dtype='<U9'),\n",
              " array(['hearts', 'laurate', 'nobel', 'people.'], dtype='<U9'),\n",
              " array(['based', 'exciting', 'indian', 'movie', 'raazi', 'real', 'spy',\n",
              "        'story.', 'thriller', 'upon'], dtype='<U9')]"
            ]
          },
          "metadata": {
            "tags": []
          },
          "execution_count": 56
        }
      ]
    },
    {
      "cell_type": "code",
      "metadata": {
        "id": "e5NaTah3GlwJ"
      },
      "source": [
        "# For Test Data\r\n",
        "test_corpus = [\r\n",
        "        'Indian cricket rock !',        \r\n",
        "]"
      ],
      "execution_count": 57,
      "outputs": []
    },
    {
      "cell_type": "code",
      "metadata": {
        "colab": {
          "base_uri": "https://localhost:8080/"
        },
        "id": "5wxxoDptGofT",
        "outputId": "744508ab-c8c9-4ea2-ff08-d54ce78039cd"
      },
      "source": [
        "\r\n",
        "cv.transform(test_corpus).toarray()"
      ],
      "execution_count": 58,
      "outputs": [
        {
          "output_type": "execute_result",
          "data": {
            "text/plain": [
              "array([[0, 0, 0, 1, 0, 0, 0, 0, 0, 1, 0, 0, 0, 0, 0, 0, 0, 0, 0, 0, 0, 0,\n",
              "        0, 0, 0, 0, 0, 0, 0, 0, 0, 0, 0]])"
            ]
          },
          "metadata": {
            "tags": []
          },
          "execution_count": 58
        }
      ]
    },
    {
      "cell_type": "markdown",
      "metadata": {
        "id": "M0_MSubXG7ws"
      },
      "source": [
        "# More ways to Create Features\r\n",
        "* Unigram - every word as a feature\r\n",
        "* Bigrams\r\n",
        "* Trigrams\r\n",
        "* n-grams\r\n",
        "* TF-IDF Normalisation"
      ]
    },
    {
      "cell_type": "code",
      "metadata": {
        "id": "g5KNFvFnGrDb"
      },
      "source": [
        "sent_1  = [\"this is good movie\"]\r\n",
        "sent_2 = [\"this is good movie but actor is not present\"]\r\n",
        "sent_3 = [\"this is not good movie\"]"
      ],
      "execution_count": 59,
      "outputs": []
    },
    {
      "cell_type": "code",
      "metadata": {
        "id": "E2NbB4VcHFpn"
      },
      "source": [
        "cv = CountVectorizer(ngram_range=(1,3))"
      ],
      "execution_count": 60,
      "outputs": []
    },
    {
      "cell_type": "code",
      "metadata": {
        "colab": {
          "base_uri": "https://localhost:8080/"
        },
        "id": "J4JlNiRdHIAF",
        "outputId": "103007a2-a866-4064-c40e-09194afa11c1"
      },
      "source": [
        "docs = [sent_1[0],sent_2[0]]\r\n",
        "cv.fit_transform(docs).toarray()"
      ],
      "execution_count": 61,
      "outputs": [
        {
          "output_type": "execute_result",
          "data": {
            "text/plain": [
              "array([[0, 0, 0, 0, 0, 0, 1, 1, 0, 1, 1, 1, 0, 0, 1, 0, 0, 0, 0, 0, 1, 1,\n",
              "        1],\n",
              "       [1, 1, 1, 1, 1, 1, 1, 1, 1, 2, 1, 1, 1, 1, 1, 1, 1, 1, 1, 1, 1, 1,\n",
              "        1]])"
            ]
          },
          "metadata": {
            "tags": []
          },
          "execution_count": 61
        }
      ]
    },
    {
      "cell_type": "code",
      "metadata": {
        "colab": {
          "base_uri": "https://localhost:8080/"
        },
        "id": "T42zu3ycHKhu",
        "outputId": "64a327d3-bccb-47fe-ad38-1137acd2d160"
      },
      "source": [
        "cv.vocabulary_"
      ],
      "execution_count": 62,
      "outputs": [
        {
          "output_type": "execute_result",
          "data": {
            "text/plain": [
              "{'actor': 0,\n",
              " 'actor is': 1,\n",
              " 'actor is not': 2,\n",
              " 'but': 3,\n",
              " 'but actor': 4,\n",
              " 'but actor is': 5,\n",
              " 'good': 6,\n",
              " 'good movie': 7,\n",
              " 'good movie but': 8,\n",
              " 'is': 9,\n",
              " 'is good': 10,\n",
              " 'is good movie': 11,\n",
              " 'is not': 12,\n",
              " 'is not present': 13,\n",
              " 'movie': 14,\n",
              " 'movie but': 15,\n",
              " 'movie but actor': 16,\n",
              " 'not': 17,\n",
              " 'not present': 18,\n",
              " 'present': 19,\n",
              " 'this': 20,\n",
              " 'this is': 21,\n",
              " 'this is good': 22}"
            ]
          },
          "metadata": {
            "tags": []
          },
          "execution_count": 62
        }
      ]
    },
    {
      "cell_type": "markdown",
      "metadata": {
        "id": "QAXNXEjTHPSq"
      },
      "source": [
        "# Tf-idf Normalisation\r\n",
        "* Avoid features that occur very often, becauase they contain less information\r\n",
        "* Information decreases as the number of occurences increases across different type of documents\r\n",
        "* So we define another term - term-document-frequency which associates a weight with every term"
      ]
    },
    {
      "cell_type": "code",
      "metadata": {
        "id": "OPp2cllcHM7M"
      },
      "source": [
        "sent_1  = \"this is good movie\"\r\n",
        "sent_2 = \"this was good movie\"\r\n",
        "sent_3 = \"this is not good movie\"\r\n",
        "\r\n",
        "corpus = [sent_1,sent_2,sent_3]"
      ],
      "execution_count": 63,
      "outputs": []
    },
    {
      "cell_type": "code",
      "metadata": {
        "id": "HiP3NeZeHWN0"
      },
      "source": [
        "from sklearn.feature_extraction.text import TfidfVectorizer"
      ],
      "execution_count": 64,
      "outputs": []
    },
    {
      "cell_type": "code",
      "metadata": {
        "id": "mC3184evHYaN"
      },
      "source": [
        "tfidf = TfidfVectorizer()"
      ],
      "execution_count": 65,
      "outputs": []
    },
    {
      "cell_type": "code",
      "metadata": {
        "id": "XzmmkA71HaNf"
      },
      "source": [
        "vc = tfidf.fit_transform(corpus).toarray()"
      ],
      "execution_count": 66,
      "outputs": []
    },
    {
      "cell_type": "code",
      "metadata": {
        "colab": {
          "base_uri": "https://localhost:8080/"
        },
        "id": "kPunMzkCHcVB",
        "outputId": "a08248c7-1f36-42a0-8b4f-f56cc3e0fef8"
      },
      "source": [
        "print(vc)"
      ],
      "execution_count": 67,
      "outputs": [
        {
          "output_type": "stream",
          "text": [
            "[[0.46333427 0.59662724 0.46333427 0.         0.46333427 0.        ]\n",
            " [0.41285857 0.         0.41285857 0.         0.41285857 0.69903033]\n",
            " [0.3645444  0.46941728 0.3645444  0.61722732 0.3645444  0.        ]]\n"
          ],
          "name": "stdout"
        }
      ]
    },
    {
      "cell_type": "code",
      "metadata": {
        "colab": {
          "base_uri": "https://localhost:8080/"
        },
        "id": "K9CF_1sQHeRQ",
        "outputId": "c1dd2abb-88f1-4d4a-978a-736d1c17e59b"
      },
      "source": [
        "tfidf.vocabulary_"
      ],
      "execution_count": 68,
      "outputs": [
        {
          "output_type": "execute_result",
          "data": {
            "text/plain": [
              "{'good': 0, 'is': 1, 'movie': 2, 'not': 3, 'this': 4, 'was': 5}"
            ]
          },
          "metadata": {
            "tags": []
          },
          "execution_count": 68
        }
      ]
    }
  ]
}