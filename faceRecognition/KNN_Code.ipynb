{
  "nbformat": 4,
  "nbformat_minor": 0,
  "metadata": {
    "colab": {
      "name": "KNN_Code.ipynb",
<<<<<<< HEAD
      "provenance": []
=======
      "provenance": [],
      "authorship_tag": "ABX9TyNEfVjFv/dEaA86wtQ1sUnA",
      "include_colab_link": true
>>>>>>> 65b683b989742b55b30ef24d8c480e8babde6033
    },
    "kernelspec": {
      "name": "python3",
      "display_name": "Python 3"
    },
    "accelerator": "GPU"
  },
  "cells": [
    {
<<<<<<< HEAD
=======
      "cell_type": "markdown",
      "metadata": {
        "id": "view-in-github",
        "colab_type": "text"
      },
      "source": [
        "<a href=\"https://colab.research.google.com/github/badgujjarajay/ML_Projects/blob/main/faceRecognition/KNN_Code.ipynb\" target=\"_parent\"><img src=\"https://colab.research.google.com/assets/colab-badge.svg\" alt=\"Open In Colab\"/></a>"
      ]
    },
    {
>>>>>>> 65b683b989742b55b30ef24d8c480e8babde6033
      "cell_type": "code",
      "metadata": {
        "colab": {
          "base_uri": "https://localhost:8080/"
        },
        "id": "Om1GYAznkQVD",
        "outputId": "c5d46323-ce66-4d9a-9cbc-0e4075b98ed0"
      },
      "source": [
        "!wget -O 'file1.zip' 'https://www.dropbox.com/sh/ivb968b1vgl2nz0/AAAlz1mHoO76W12X4U78B3Tta?dl=1'"
      ],
      "execution_count": null,
      "outputs": [
        {
          "output_type": "stream",
          "text": [
            "--2021-01-03 15:13:28--  https://www.dropbox.com/sh/ivb968b1vgl2nz0/AAAlz1mHoO76W12X4U78B3Tta?dl=1\n",
            "Resolving www.dropbox.com (www.dropbox.com)... 162.125.65.18, 2620:100:6021:18::a27d:4112\n",
            "Connecting to www.dropbox.com (www.dropbox.com)|162.125.65.18|:443... connected.\n",
            "HTTP request sent, awaiting response... 301 Moved Permanently\n",
            "Location: /sh/dl/ivb968b1vgl2nz0/AAAlz1mHoO76W12X4U78B3Tta [following]\n",
            "--2021-01-03 15:13:28--  https://www.dropbox.com/sh/dl/ivb968b1vgl2nz0/AAAlz1mHoO76W12X4U78B3Tta\n",
            "Reusing existing connection to www.dropbox.com:443.\n",
            "HTTP request sent, awaiting response... 302 Found\n",
            "Location: https://uc30bc47ae3fafc42513c5be6fbc.dl.dropboxusercontent.com/zip_download_get/ApsQx2lUEYYtBwW1q5Q-BhI-ZjECPMSYO5A4qjacUhg_x4IBvtuiW_PX1QzHlvwVHzbLgJrBr_CoRAR8HsPOiddIZMQ9HZ8QS8vWoxJEfrR1Fg?dl=1 [following]\n",
            "--2021-01-03 15:13:28--  https://uc30bc47ae3fafc42513c5be6fbc.dl.dropboxusercontent.com/zip_download_get/ApsQx2lUEYYtBwW1q5Q-BhI-ZjECPMSYO5A4qjacUhg_x4IBvtuiW_PX1QzHlvwVHzbLgJrBr_CoRAR8HsPOiddIZMQ9HZ8QS8vWoxJEfrR1Fg?dl=1\n",
            "Resolving uc30bc47ae3fafc42513c5be6fbc.dl.dropboxusercontent.com (uc30bc47ae3fafc42513c5be6fbc.dl.dropboxusercontent.com)... 162.125.65.15, 2620:100:6022:15::a27d:420f\n",
            "Connecting to uc30bc47ae3fafc42513c5be6fbc.dl.dropboxusercontent.com (uc30bc47ae3fafc42513c5be6fbc.dl.dropboxusercontent.com)|162.125.65.15|:443... connected.\n",
            "HTTP request sent, awaiting response... 200 OK\n",
            "Length: 20976 (20K) [application/zip]\n",
            "Saving to: ‘file1.zip’\n",
            "\n",
            "file1.zip           100%[===================>]  20.48K  --.-KB/s    in 0.03s   \n",
            "\n",
            "2021-01-03 15:13:29 (777 KB/s) - ‘file1.zip’ saved [20976/20976]\n",
            "\n"
          ],
          "name": "stdout"
        }
      ]
    },
    {
      "cell_type": "code",
      "metadata": {
        "colab": {
          "base_uri": "https://localhost:8080/"
        },
        "id": "89xiSpnQlNF8",
        "outputId": "812f525a-402a-4670-ecd3-88f487106e26"
      },
      "source": [
        "!wget -O 'file2.zip' 'https://www.dropbox.com/sh/ey5df5159xy1jw7/AAD5VFSY0UHZM-rSHQKeP0xSa?dl=0'"
      ],
      "execution_count": null,
      "outputs": [
        {
          "output_type": "stream",
          "text": [
            "--2021-01-03 15:13:29--  https://www.dropbox.com/sh/ey5df5159xy1jw7/AAD5VFSY0UHZM-rSHQKeP0xSa?dl=0\n",
            "Resolving www.dropbox.com (www.dropbox.com)... 162.125.65.18, 2620:100:6021:18::a27d:4112\n",
            "Connecting to www.dropbox.com (www.dropbox.com)|162.125.65.18|:443... connected.\n",
            "HTTP request sent, awaiting response... 301 Moved Permanently\n",
            "Location: /sh/raw/ey5df5159xy1jw7/AAD5VFSY0UHZM-rSHQKeP0xSa [following]\n",
            "--2021-01-03 15:13:29--  https://www.dropbox.com/sh/raw/ey5df5159xy1jw7/AAD5VFSY0UHZM-rSHQKeP0xSa\n",
            "Reusing existing connection to www.dropbox.com:443.\n",
            "HTTP request sent, awaiting response... 302 Found\n",
            "Location: https://ucd78f702e49ac9448d912c1dd3c.dl.dropboxusercontent.com/zip_download_get/ApvH00639Ox_GvaA_EtmIV_vJ3NtxQxFgf0vuFaM5XnJV8f6AKZbuh7sa2ZeELyNzGH2AzaKLMWfix5xVKQSGD-pqgLLFKayK7c-XnhFoqtPKQ [following]\n",
            "--2021-01-03 15:13:30--  https://ucd78f702e49ac9448d912c1dd3c.dl.dropboxusercontent.com/zip_download_get/ApvH00639Ox_GvaA_EtmIV_vJ3NtxQxFgf0vuFaM5XnJV8f6AKZbuh7sa2ZeELyNzGH2AzaKLMWfix5xVKQSGD-pqgLLFKayK7c-XnhFoqtPKQ\n",
            "Resolving ucd78f702e49ac9448d912c1dd3c.dl.dropboxusercontent.com (ucd78f702e49ac9448d912c1dd3c.dl.dropboxusercontent.com)... 162.125.65.15, 2620:100:6022:15::a27d:420f\n",
            "Connecting to ucd78f702e49ac9448d912c1dd3c.dl.dropboxusercontent.com (ucd78f702e49ac9448d912c1dd3c.dl.dropboxusercontent.com)|162.125.65.15|:443... connected.\n",
            "HTTP request sent, awaiting response... 200 OK\n",
            "Length: 7235 (7.1K) [application/zip]\n",
            "Saving to: ‘file2.zip’\n",
            "\n",
            "file2.zip           100%[===================>]   7.07K  --.-KB/s    in 0s      \n",
            "\n",
            "2021-01-03 15:13:31 (556 MB/s) - ‘file2.zip’ saved [7235/7235]\n",
            "\n"
          ],
          "name": "stdout"
        }
      ]
    },
    {
      "cell_type": "code",
      "metadata": {
        "colab": {
          "base_uri": "https://localhost:8080/"
        },
        "id": "RC4EReegluIi",
        "outputId": "9460f1b1-3c6f-416b-86b1-b3b8fa24da1b"
      },
      "source": [
        "!unzip '*.zip'"
      ],
      "execution_count": null,
      "outputs": [
        {
          "output_type": "stream",
          "text": [
            "Archive:  file2.zip\n",
            "warning:  stripped absolute path spec from /\n",
            "mapname:  conversion of  failed\n",
            " extracting: Diabetes_Xtest.csv      \n",
            " extracting: sample_submission.csv   \n",
            "\n",
            "Archive:  file1.zip\n",
            "warning:  stripped absolute path spec from /\n",
            "mapname:  conversion of  failed\n",
            " extracting: Diabetes_XTrain.csv     \n",
            " extracting: Diabetes_YTrain.csv     \n",
            "\n",
            "2 archives had fatal errors.\n"
          ],
          "name": "stdout"
        }
      ]
    },
    {
      "cell_type": "code",
      "metadata": {
        "id": "2JVVNFwZlzJs"
      },
      "source": [
        "import pandas as pd\r\n",
        "import numpy as np\r\n",
        "import matplotlib.pyplot as plt\r\n",
        "import warnings\r\n",
        "warnings.filterwarnings(\"ignore\")"
      ],
      "execution_count": null,
      "outputs": []
    },
    {
      "cell_type": "code",
      "metadata": {
        "id": "V7rGebwXl8dW"
      },
      "source": [
        "XT = pd.read_csv('/content/Diabetes_XTrain.csv')\r\n",
        "YT = pd.read_csv('/content/Diabetes_YTrain.csv')"
      ],
      "execution_count": null,
      "outputs": []
    },
    {
      "cell_type": "code",
      "metadata": {
        "colab": {
          "base_uri": "https://localhost:8080/",
          "height": 204
        },
        "id": "zbrVhNHXmZ10",
        "outputId": "5b10e529-4135-4e1e-dccf-0a3ed057df24"
      },
      "source": [
        "XT.head()"
      ],
      "execution_count": null,
      "outputs": [
        {
          "output_type": "execute_result",
          "data": {
            "text/html": [
              "<div>\n",
              "<style scoped>\n",
              "    .dataframe tbody tr th:only-of-type {\n",
              "        vertical-align: middle;\n",
              "    }\n",
              "\n",
              "    .dataframe tbody tr th {\n",
              "        vertical-align: top;\n",
              "    }\n",
              "\n",
              "    .dataframe thead th {\n",
              "        text-align: right;\n",
              "    }\n",
              "</style>\n",
              "<table border=\"1\" class=\"dataframe\">\n",
              "  <thead>\n",
              "    <tr style=\"text-align: right;\">\n",
              "      <th></th>\n",
              "      <th>Pregnancies</th>\n",
              "      <th>Glucose</th>\n",
              "      <th>BloodPressure</th>\n",
              "      <th>SkinThickness</th>\n",
              "      <th>Insulin</th>\n",
              "      <th>BMI</th>\n",
              "      <th>DiabetesPedigreeFunction</th>\n",
              "      <th>Age</th>\n",
              "    </tr>\n",
              "  </thead>\n",
              "  <tbody>\n",
              "    <tr>\n",
              "      <th>0</th>\n",
              "      <td>7</td>\n",
              "      <td>168</td>\n",
              "      <td>88</td>\n",
              "      <td>42</td>\n",
              "      <td>321</td>\n",
              "      <td>38.2</td>\n",
              "      <td>0.787</td>\n",
              "      <td>40</td>\n",
              "    </tr>\n",
              "    <tr>\n",
              "      <th>1</th>\n",
              "      <td>8</td>\n",
              "      <td>110</td>\n",
              "      <td>76</td>\n",
              "      <td>0</td>\n",
              "      <td>0</td>\n",
              "      <td>27.8</td>\n",
              "      <td>0.237</td>\n",
              "      <td>58</td>\n",
              "    </tr>\n",
              "    <tr>\n",
              "      <th>2</th>\n",
              "      <td>7</td>\n",
              "      <td>147</td>\n",
              "      <td>76</td>\n",
              "      <td>0</td>\n",
              "      <td>0</td>\n",
              "      <td>39.4</td>\n",
              "      <td>0.257</td>\n",
              "      <td>43</td>\n",
              "    </tr>\n",
              "    <tr>\n",
              "      <th>3</th>\n",
              "      <td>2</td>\n",
              "      <td>100</td>\n",
              "      <td>66</td>\n",
              "      <td>20</td>\n",
              "      <td>90</td>\n",
              "      <td>32.9</td>\n",
              "      <td>0.867</td>\n",
              "      <td>28</td>\n",
              "    </tr>\n",
              "    <tr>\n",
              "      <th>4</th>\n",
              "      <td>4</td>\n",
              "      <td>129</td>\n",
              "      <td>86</td>\n",
              "      <td>20</td>\n",
              "      <td>270</td>\n",
              "      <td>35.1</td>\n",
              "      <td>0.231</td>\n",
              "      <td>23</td>\n",
              "    </tr>\n",
              "  </tbody>\n",
              "</table>\n",
              "</div>"
            ],
            "text/plain": [
              "   Pregnancies  Glucose  BloodPressure  ...   BMI  DiabetesPedigreeFunction  Age\n",
              "0            7      168             88  ...  38.2                     0.787   40\n",
              "1            8      110             76  ...  27.8                     0.237   58\n",
              "2            7      147             76  ...  39.4                     0.257   43\n",
              "3            2      100             66  ...  32.9                     0.867   28\n",
              "4            4      129             86  ...  35.1                     0.231   23\n",
              "\n",
              "[5 rows x 8 columns]"
            ]
          },
          "metadata": {
            "tags": []
          },
          "execution_count": 33
        }
      ]
    },
    {
      "cell_type": "code",
      "metadata": {
        "colab": {
          "base_uri": "https://localhost:8080/",
          "height": 204
        },
        "id": "mtMiqIlzmjXq",
        "outputId": "8f425305-aa51-437a-b928-5f388ea457f0"
      },
      "source": [
        "YT.head()"
      ],
      "execution_count": null,
      "outputs": [
        {
          "output_type": "execute_result",
          "data": {
            "text/html": [
              "<div>\n",
              "<style scoped>\n",
              "    .dataframe tbody tr th:only-of-type {\n",
              "        vertical-align: middle;\n",
              "    }\n",
              "\n",
              "    .dataframe tbody tr th {\n",
              "        vertical-align: top;\n",
              "    }\n",
              "\n",
              "    .dataframe thead th {\n",
              "        text-align: right;\n",
              "    }\n",
              "</style>\n",
              "<table border=\"1\" class=\"dataframe\">\n",
              "  <thead>\n",
              "    <tr style=\"text-align: right;\">\n",
              "      <th></th>\n",
              "      <th>Outcome</th>\n",
              "    </tr>\n",
              "  </thead>\n",
              "  <tbody>\n",
              "    <tr>\n",
              "      <th>0</th>\n",
              "      <td>1</td>\n",
              "    </tr>\n",
              "    <tr>\n",
              "      <th>1</th>\n",
              "      <td>0</td>\n",
              "    </tr>\n",
              "    <tr>\n",
              "      <th>2</th>\n",
              "      <td>1</td>\n",
              "    </tr>\n",
              "    <tr>\n",
              "      <th>3</th>\n",
              "      <td>1</td>\n",
              "    </tr>\n",
              "    <tr>\n",
              "      <th>4</th>\n",
              "      <td>0</td>\n",
              "    </tr>\n",
              "  </tbody>\n",
              "</table>\n",
              "</div>"
            ],
            "text/plain": [
              "   Outcome\n",
              "0        1\n",
              "1        0\n",
              "2        1\n",
              "3        1\n",
              "4        0"
            ]
          },
          "metadata": {
            "tags": []
          },
          "execution_count": 34
        }
      ]
    },
    {
      "cell_type": "code",
      "metadata": {
        "id": "RVuLnBSSmlS6"
      },
      "source": [
        "Xt = pd.read_csv('/content/Diabetes_Xtest.csv')"
      ],
      "execution_count": null,
      "outputs": []
    },
    {
      "cell_type": "code",
      "metadata": {
        "id": "tKLqmkr9mvCA"
      },
      "source": [
        "XT = XT.values\r\n",
        "YT = YT.values\r\n",
        "Xt = Xt.values"
      ],
      "execution_count": null,
      "outputs": []
    },
    {
      "cell_type": "code",
      "metadata": {
        "colab": {
          "base_uri": "https://localhost:8080/"
        },
        "id": "8iK-IEL1m_0L",
        "outputId": "2232bf64-1714-4ee0-f5c5-4533f53fec02"
      },
      "source": [
        "print(XT.shape, YT.shape)\r\n",
        "print(Xt.shape)"
      ],
      "execution_count": null,
      "outputs": [
        {
          "output_type": "stream",
          "text": [
            "(576, 8) (576, 1)\n",
            "(192, 8)\n"
          ],
          "name": "stdout"
        }
      ]
    },
    {
      "cell_type": "code",
      "metadata": {
        "id": "lsrPlZssnFug"
      },
      "source": [
        "YT = YT.reshape((-1, ))"
      ],
      "execution_count": null,
      "outputs": []
    },
    {
      "cell_type": "code",
      "metadata": {
        "id": "SYIc65vLnP4C"
      },
      "source": [
        "def dist(x1, x2):\r\n",
        "  return np.sqrt(sum((x1-x2)**2))\r\n",
        "\r\n",
        "def knn(X, Y, query, k = 10):\r\n",
        "  vals = []\r\n",
        "  m = X.shape[0]\r\n",
        "  for i in range(m):\r\n",
        "    d = dist(query, X[i])\r\n",
        "    vals.append((d, Y[i]))\r\n",
        "\r\n",
        "  vals = sorted(vals)\r\n",
        "  vals = vals[:k]\r\n",
        "  vals = np.array(vals)\r\n",
        "  vals = np.unique(vals[:, 1], return_counts=True)\r\n",
        "\r\n",
        "  idx = vals[1].argmax()\r\n",
        "  ans = vals[0][idx]\r\n",
        "\r\n",
        "  return int(ans)"
      ],
      "execution_count": null,
      "outputs": []
    },
    {
      "cell_type": "code",
      "metadata": {
        "id": "sjcBKlzjpzAK"
      },
      "source": [
        " m = Xt.shape[0]\r\n",
        " ans = []\r\n",
        "\r\n",
        " for i in range(m):\r\n",
        "   pred = knn(XT, YT, Xt[i])\r\n",
        "   ans.append(pred)"
      ],
      "execution_count": null,
      "outputs": []
    },
    {
      "cell_type": "code",
      "metadata": {
        "id": "faz6_421qoKj"
      },
      "source": [
        "df = pd.DataFrame(ans)"
      ],
      "execution_count": null,
      "outputs": []
    },
    {
      "cell_type": "code",
      "metadata": {
        "id": "Yf6hZkCBqp_y"
      },
      "source": [
        "df.columns = ['A']"
      ],
      "execution_count": null,
      "outputs": []
    },
    {
      "cell_type": "code",
      "metadata": {
        "id": "JdT3XUKxq0Jc"
      },
      "source": [
        "df.to_csv('ans.csv', index= False)"
      ],
      "execution_count": null,
      "outputs": []
    },
    {
      "cell_type": "code",
      "metadata": {
        "id": "mCg4qfJ_x0K2"
      },
      "source": [
        ""
      ],
      "execution_count": null,
      "outputs": []
    }
  ]
}